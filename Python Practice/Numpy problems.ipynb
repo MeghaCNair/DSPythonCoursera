{
 "cells": [
  {
   "cell_type": "code",
   "execution_count": 1,
   "id": "e64e55da-1fc4-4186-83c8-ce879709b5d0",
   "metadata": {},
   "outputs": [],
   "source": [
    "import numpy as np;\n",
    "import pandas as pd;"
   ]
  },
  {
   "cell_type": "code",
   "execution_count": 5,
   "id": "884a8842-1317-4bd5-b884-9fd88e8b3fca",
   "metadata": {},
   "outputs": [
    {
     "data": {
      "text/plain": [
       "False"
      ]
     },
     "execution_count": 5,
     "metadata": {},
     "output_type": "execute_result"
    }
   ],
   "source": [
    "arr1 = np.arange(0,10)\n",
    "np.all(arr1)"
   ]
  },
  {
   "cell_type": "code",
   "execution_count": 6,
   "id": "1b439f83-d14e-48d3-86d9-9d9a62f8d99c",
   "metadata": {},
   "outputs": [
    {
     "data": {
      "text/plain": [
       "True"
      ]
     },
     "execution_count": 6,
     "metadata": {},
     "output_type": "execute_result"
    }
   ],
   "source": [
    "#Write a NumPy program to test whether none of the elements of a given array are zero.\n",
    "arr1 = np.array([1,2,4,5])\n",
    "np.all(arr1)"
   ]
  },
  {
   "cell_type": "code",
   "execution_count": 9,
   "id": "c1090f8c-a568-43b4-81a3-9252863fb39c",
   "metadata": {},
   "outputs": [],
   "source": [
    "#Write a NumPy program to test if any of the elements of a given array are non-zero. "
   ]
  },
  {
   "cell_type": "code",
   "execution_count": 8,
   "id": "34060094-fb00-4444-adf4-9a238cefceb8",
   "metadata": {},
   "outputs": [
    {
     "data": {
      "text/plain": [
       "True"
      ]
     },
     "execution_count": 8,
     "metadata": {},
     "output_type": "execute_result"
    }
   ],
   "source": [
    "np.any(arr1)"
   ]
  },
  {
   "cell_type": "code",
   "execution_count": 21,
   "id": "ea78106e-3904-4f5b-8f36-3aec9b47ffe7",
   "metadata": {},
   "outputs": [],
   "source": [
    "#Write a NumPy program to test element-wise for NaN of a given array."
   ]
  },
  {
   "cell_type": "code",
   "execution_count": 22,
   "id": "030aa98b-dec8-4c91-9e4c-50c8d8b1cadf",
   "metadata": {},
   "outputs": [
    {
     "data": {
      "text/plain": [
       "array([ True, False, False, False,  True])"
      ]
     },
     "execution_count": 22,
     "metadata": {},
     "output_type": "execute_result"
    }
   ],
   "source": [
    "arr2 = np.array([np.nan,45,5,6,np.nan])\n",
    "np.isnan(arr2)"
   ]
  },
  {
   "cell_type": "code",
   "execution_count": 26,
   "id": "fe6887a2-f112-4685-aa13-9fec757c4abc",
   "metadata": {},
   "outputs": [],
   "source": [
    "#Write a NumPy program to test a given array element-wise for finiteness\n",
    "arr3 = np.array([1,2,np.nan,np.inf,-np.inf])\n"
   ]
  },
  {
   "cell_type": "code",
   "execution_count": 29,
   "id": "a9795019-3770-49c0-9306-44dbd92fd767",
   "metadata": {},
   "outputs": [
    {
     "data": {
      "text/plain": [
       "array([ True,  True, False, False, False])"
      ]
     },
     "execution_count": 29,
     "metadata": {},
     "output_type": "execute_result"
    }
   ],
   "source": [
    "np.isfinite(arr3)"
   ]
  },
  {
   "cell_type": "code",
   "execution_count": 28,
   "id": "7df1ca5a-61e5-48f2-89c6-5f3937a9f552",
   "metadata": {},
   "outputs": [
    {
     "data": {
      "text/plain": [
       "array([False, False, False,  True,  True])"
      ]
     },
     "execution_count": 28,
     "metadata": {},
     "output_type": "execute_result"
    }
   ],
   "source": [
    "#Write a NumPy program to test elements-wise for positive or negative infinity.\n",
    "np.isinf(arr3)"
   ]
  },
  {
   "cell_type": "code",
   "execution_count": 32,
   "id": "ccbe6b89-a9b9-451f-b005-5337c2043d61",
   "metadata": {},
   "outputs": [
    {
     "name": "stdout",
     "output_type": "stream",
     "text": [
      "Original array\n",
      "[1. +1.j 1. +0.j 4.5+0.j 3. +0.j 2. +0.j 0. +2.j]\n",
      "Checking for complex number:\n",
      "[ True False False False False  True]\n",
      "Checking for real number:\n",
      "[False  True  True  True  True False]\n",
      "Checking for scalar type:\n",
      "True\n",
      "False\n",
      "False\n",
      "True\n"
     ]
    }
   ],
   "source": [
    "#Write a NumPy program to test element-wise for complex numbers, real numbers in a given array.\n",
    "#Also test if a given number is of a scalar type or not.\n",
    "a = np.array([1+1j, 1+0j, 4.5, 3, 2, 2j])\n",
    "print(\"Original array\")\n",
    "print(a)\n",
    "print(\"Checking for complex number:\")\n",
    "print(np.iscomplex(a))\n",
    "print(\"Checking for real number:\")\n",
    "print(np.isreal(a))\n",
    "print(\"Checking for scalar type:\")\n",
    "print(np.isscalar(3.1))\n",
    "print(np.isscalar([3.1]))\n",
    "print(np.isscalar(a))\n",
    "print(np.isscalar('abcd'))"
   ]
  },
  {
   "cell_type": "code",
   "execution_count": 34,
   "id": "fb3451e0-c438-42b7-a1a7-31d5fdab9b7c",
   "metadata": {},
   "outputs": [
    {
     "name": "stdout",
     "output_type": "stream",
     "text": [
      "Test if two arrays are element-wise equal within a tolerance:\n",
      "False\n",
      "True\n",
      "False\n",
      "False\n",
      "True\n"
     ]
    }
   ],
   "source": [
    "#Write a NumPy program to test whether two arrays are element-wise equal within a tolerance.\n",
    "print(\"Test if two arrays are element-wise equal within a tolerance:\")\n",
    "print(np.allclose([1e10,1e-7], [1.00001e10,1e-8]))\n",
    "print(np.allclose([1e10,1e-8], [1.00001e10,1e-9]))\n",
    "print(np.allclose([1e10,1e-8], [1.0001e10,1e-9]))\n",
    "print(np.allclose([1.0, np.nan], [1.0, np.nan]))\n",
    "print(np.allclose([1.0, np.nan], [1.0, np.nan], equal_nan=True))"
   ]
  },
  {
   "cell_type": "code",
   "execution_count": 35,
   "id": "e3e4e7d7-9f1b-40e4-a4f5-b4fbc74b837e",
   "metadata": {},
   "outputs": [],
   "source": [
    "#Write a NumPy program to create an element-wise comparison (greater, greater_equal, less and less_equal) of two given arrays."
   ]
  },
  {
   "cell_type": "code",
   "execution_count": 42,
   "id": "cad2a69c-ef4b-4af5-bae9-d9d699f0f3e2",
   "metadata": {},
   "outputs": [
    {
     "data": {
      "text/plain": [
       "array([ True, False,  True, False])"
      ]
     },
     "execution_count": 42,
     "metadata": {},
     "output_type": "execute_result"
    }
   ],
   "source": [
    "arr7 = np.array([3,4,6,5])\n",
    "arr8 = np.array([4,2,9,5])\n",
    "np.greater(arr7,arr8)\n",
    "np.greater_equal(arr7,arr8)\n",
    "np.less_equal(arr7,arr8)\n",
    "np.less(arr7,arr8)"
   ]
  },
  {
   "cell_type": "code",
   "execution_count": null,
   "id": "5c65c038-20dd-4c0d-9112-762685e2aeb8",
   "metadata": {},
   "outputs": [],
   "source": []
  },
  {
   "cell_type": "code",
   "execution_count": null,
   "id": "154e762b-552e-490a-9448-ec875d86d094",
   "metadata": {},
   "outputs": [],
   "source": []
  }
 ],
 "metadata": {
  "kernelspec": {
   "display_name": "Python 3 (ipykernel)",
   "language": "python",
   "name": "python3"
  },
  "language_info": {
   "codemirror_mode": {
    "name": "ipython",
    "version": 3
   },
   "file_extension": ".py",
   "mimetype": "text/x-python",
   "name": "python",
   "nbconvert_exporter": "python",
   "pygments_lexer": "ipython3",
   "version": "3.11.4"
  }
 },
 "nbformat": 4,
 "nbformat_minor": 5
}
