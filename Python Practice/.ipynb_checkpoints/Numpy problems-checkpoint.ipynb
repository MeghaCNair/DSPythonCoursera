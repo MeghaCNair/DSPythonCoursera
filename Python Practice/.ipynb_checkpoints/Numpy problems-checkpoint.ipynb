{
 "cells": [
  {
   "cell_type": "code",
   "execution_count": 1,
   "id": "e64e55da-1fc4-4186-83c8-ce879709b5d0",
   "metadata": {},
   "outputs": [],
   "source": [
    "import numpy as np;\n",
    "import pandas as pd;"
   ]
  },
  {
   "cell_type": "code",
   "execution_count": 5,
   "id": "884a8842-1317-4bd5-b884-9fd88e8b3fca",
   "metadata": {},
   "outputs": [
    {
     "data": {
      "text/plain": [
       "False"
      ]
     },
     "execution_count": 5,
     "metadata": {},
     "output_type": "execute_result"
    }
   ],
   "source": [
    "arr1 = np.arange(0,10)\n",
    "np.all(arr1)"
   ]
  },
  {
   "cell_type": "code",
   "execution_count": 6,
   "id": "1b439f83-d14e-48d3-86d9-9d9a62f8d99c",
   "metadata": {},
   "outputs": [
    {
     "data": {
      "text/plain": [
       "True"
      ]
     },
     "execution_count": 6,
     "metadata": {},
     "output_type": "execute_result"
    }
   ],
   "source": [
    "#Write a NumPy program to test whether none of the elements of a given array are zero.\n",
    "arr1 = np.array([1,2,4,5])\n",
    "np.all(arr1)"
   ]
  },
  {
   "cell_type": "code",
   "execution_count": 9,
   "id": "c1090f8c-a568-43b4-81a3-9252863fb39c",
   "metadata": {},
   "outputs": [],
   "source": [
    "#Write a NumPy program to test if any of the elements of a given array are non-zero. "
   ]
  },
  {
   "cell_type": "code",
   "execution_count": 8,
   "id": "34060094-fb00-4444-adf4-9a238cefceb8",
   "metadata": {},
   "outputs": [
    {
     "data": {
      "text/plain": [
       "True"
      ]
     },
     "execution_count": 8,
     "metadata": {},
     "output_type": "execute_result"
    }
   ],
   "source": [
    "np.any(arr1)"
   ]
  },
  {
   "cell_type": "code",
   "execution_count": 21,
   "id": "ea78106e-3904-4f5b-8f36-3aec9b47ffe7",
   "metadata": {},
   "outputs": [],
   "source": [
    "#Write a NumPy program to test element-wise for NaN of a given array."
   ]
  },
  {
   "cell_type": "code",
   "execution_count": 22,
   "id": "030aa98b-dec8-4c91-9e4c-50c8d8b1cadf",
   "metadata": {},
   "outputs": [
    {
     "data": {
      "text/plain": [
       "array([ True, False, False, False,  True])"
      ]
     },
     "execution_count": 22,
     "metadata": {},
     "output_type": "execute_result"
    }
   ],
   "source": [
    "arr2 = np.array([np.nan,45,5,6,np.nan])\n",
    "np.isnan(arr2)"
   ]
  },
  {
   "cell_type": "code",
   "execution_count": 26,
   "id": "fe6887a2-f112-4685-aa13-9fec757c4abc",
   "metadata": {},
   "outputs": [],
   "source": [
    "#Write a NumPy program to test a given array element-wise for finiteness\n",
    "arr3 = np.array([1,2,np.nan,np.inf,-np.inf])\n"
   ]
  },
  {
   "cell_type": "code",
   "execution_count": 29,
   "id": "a9795019-3770-49c0-9306-44dbd92fd767",
   "metadata": {},
   "outputs": [
    {
     "data": {
      "text/plain": [
       "array([ True,  True, False, False, False])"
      ]
     },
     "execution_count": 29,
     "metadata": {},
     "output_type": "execute_result"
    }
   ],
   "source": [
    "np.isfinite(arr3)"
   ]
  },
  {
   "cell_type": "code",
   "execution_count": 28,
   "id": "7df1ca5a-61e5-48f2-89c6-5f3937a9f552",
   "metadata": {},
   "outputs": [
    {
     "data": {
      "text/plain": [
       "array([False, False, False,  True,  True])"
      ]
     },
     "execution_count": 28,
     "metadata": {},
     "output_type": "execute_result"
    }
   ],
   "source": [
    "#Write a NumPy program to test elements-wise for positive or negative infinity.\n",
    "np.isinf(arr3)"
   ]
  },
  {
   "cell_type": "code",
   "execution_count": 32,
   "id": "ccbe6b89-a9b9-451f-b005-5337c2043d61",
   "metadata": {},
   "outputs": [
    {
     "name": "stdout",
     "output_type": "stream",
     "text": [
      "Original array\n",
      "[1. +1.j 1. +0.j 4.5+0.j 3. +0.j 2. +0.j 0. +2.j]\n",
      "Checking for complex number:\n",
      "[ True False False False False  True]\n",
      "Checking for real number:\n",
      "[False  True  True  True  True False]\n",
      "Checking for scalar type:\n",
      "True\n",
      "False\n",
      "False\n",
      "True\n"
     ]
    }
   ],
   "source": [
    "#Write a NumPy program to test element-wise for complex numbers, real numbers in a given array.\n",
    "#Also test if a given number is of a scalar type or not.\n",
    "a = np.array([1+1j, 1+0j, 4.5, 3, 2, 2j])\n",
    "print(\"Original array\")\n",
    "print(a)\n",
    "print(\"Checking for complex number:\")\n",
    "print(np.iscomplex(a))\n",
    "print(\"Checking for real number:\")\n",
    "print(np.isreal(a))\n",
    "print(\"Checking for scalar type:\")\n",
    "print(np.isscalar(3.1))\n",
    "print(np.isscalar([3.1]))\n",
    "print(np.isscalar(a))\n",
    "print(np.isscalar('abcd'))"
   ]
  },
  {
   "cell_type": "code",
   "execution_count": 34,
   "id": "fb3451e0-c438-42b7-a1a7-31d5fdab9b7c",
   "metadata": {},
   "outputs": [
    {
     "name": "stdout",
     "output_type": "stream",
     "text": [
      "Test if two arrays are element-wise equal within a tolerance:\n",
      "False\n",
      "True\n",
      "False\n",
      "False\n",
      "True\n"
     ]
    }
   ],
   "source": [
    "#Write a NumPy program to test whether two arrays are element-wise equal within a tolerance.\n",
    "print(\"Test if two arrays are element-wise equal within a tolerance:\")\n",
    "print(np.allclose([1e10,1e-7], [1.00001e10,1e-8]))\n",
    "print(np.allclose([1e10,1e-8], [1.00001e10,1e-9]))\n",
    "print(np.allclose([1e10,1e-8], [1.0001e10,1e-9]))\n",
    "print(np.allclose([1.0, np.nan], [1.0, np.nan]))\n",
    "print(np.allclose([1.0, np.nan], [1.0, np.nan], equal_nan=True))"
   ]
  },
  {
   "cell_type": "code",
   "execution_count": 35,
   "id": "e3e4e7d7-9f1b-40e4-a4f5-b4fbc74b837e",
   "metadata": {},
   "outputs": [],
   "source": [
    "#Write a NumPy program to create an element-wise comparison (greater, greater_equal, less and less_equal) of two given arrays."
   ]
  },
  {
   "cell_type": "code",
   "execution_count": 42,
   "id": "cad2a69c-ef4b-4af5-bae9-d9d699f0f3e2",
   "metadata": {},
   "outputs": [
    {
     "data": {
      "text/plain": [
       "array([ True, False,  True, False])"
      ]
     },
     "execution_count": 42,
     "metadata": {},
     "output_type": "execute_result"
    }
   ],
   "source": [
    "arr7 = np.array([3,4,6,5])\n",
    "arr8 = np.array([4,2,9,5])\n",
    "np.greater(arr7,arr8)\n",
    "np.greater_equal(arr7,arr8)\n",
    "np.less_equal(arr7,arr8)\n",
    "np.less(arr7,arr8)"
   ]
  },
  {
   "cell_type": "code",
   "execution_count": null,
   "id": "5c65c038-20dd-4c0d-9112-762685e2aeb8",
   "metadata": {},
   "outputs": [],
   "source": [
    "#Write a NumPy program to create an element-wise comparison \n",
    "#(equal, equal within a tolerance) of two given arrays."
   ]
  },
  {
   "cell_type": "code",
   "execution_count": 4,
   "id": "154e762b-552e-490a-9448-ec875d86d094",
   "metadata": {},
   "outputs": [
    {
     "data": {
      "text/plain": [
       "True"
      ]
     },
     "execution_count": 4,
     "metadata": {},
     "output_type": "execute_result"
    }
   ],
   "source": [
    "x = np.array([72, 79, 85, 90, 150, -135, 120, -10, 60, 100])\n",
    "y = np.array([72, 79, 85, 90, 150, -135, 120, -10, 60, 100.000001])\n",
    "np.equal(x,y)\n",
    "np.allclose(x,y)"
   ]
  },
  {
   "cell_type": "code",
   "execution_count": 8,
   "id": "b63e2700-dbb9-412b-9072-2f4478d19c30",
   "metadata": {},
   "outputs": [
    {
     "data": {
      "text/plain": [
       "16"
      ]
     },
     "execution_count": 8,
     "metadata": {},
     "output_type": "execute_result"
    }
   ],
   "source": [
    "#Write a NumPy program to create an array with the values 1, 7, 13, 105 and \n",
    "#determine the size of the memory occupied by the array.\n",
    "\n",
    "arr12 = np.array([1,7,13,105])\n",
    "arr12.size * arr12.itemsize"
   ]
  },
  {
   "cell_type": "code",
   "execution_count": 15,
   "id": "9ad65708-750b-4aa9-9bde-653b16cb21cd",
   "metadata": {},
   "outputs": [
    {
     "data": {
      "text/plain": [
       "array([5., 5., 5., 5., 5., 5., 5., 5., 5., 5.])"
      ]
     },
     "execution_count": 15,
     "metadata": {},
     "output_type": "execute_result"
    }
   ],
   "source": [
    "#Write a NumPy program to create an array of 10 zeros, 10 ones, and 10 fives. \n",
    "arr0s = np.zeros(10)\n",
    "arr1s = np.ones(10)\n",
    "arr5s = np.ones(10) * 5\n",
    "arr5s"
   ]
  },
  {
   "cell_type": "code",
   "execution_count": 19,
   "id": "628c2061-e47f-41ec-9856-be4fb687edc7",
   "metadata": {},
   "outputs": [
    {
     "data": {
      "text/plain": [
       "array([30, 31, 32, 33, 34, 35, 36, 37, 38, 39, 40, 41, 42, 43, 44, 45, 46,\n",
       "       47, 48, 49, 50, 51, 52, 53, 54, 55, 56, 57, 58, 59, 60, 61, 62, 63,\n",
       "       64, 65, 66, 67, 68, 69, 70])"
      ]
     },
     "execution_count": 19,
     "metadata": {},
     "output_type": "execute_result"
    }
   ],
   "source": [
    "#Write a NumPy program to create an array of integers from 30 to 70.\n",
    "arr14 = np.arange(30,71,1)\n",
    "arr14"
   ]
  },
  {
   "cell_type": "code",
   "execution_count": 20,
   "id": "db26f398-c91f-4c3e-af8c-4290c92cf657",
   "metadata": {},
   "outputs": [
    {
     "data": {
      "text/plain": [
       "array([30, 32, 34, 36, 38, 40, 42, 44, 46, 48, 50, 52, 54, 56, 58, 60, 62,\n",
       "       64, 66, 68, 70])"
      ]
     },
     "execution_count": 20,
     "metadata": {},
     "output_type": "execute_result"
    }
   ],
   "source": [
    "#Write a NumPy program to create an array of all even integers from 30 to 70.\n",
    "arr15 = np.arange(30,71,2)\n",
    "arr15"
   ]
  },
  {
   "cell_type": "code",
   "execution_count": 21,
   "id": "d1814de6-cc81-4b59-a35d-c2cdf3086d94",
   "metadata": {},
   "outputs": [
    {
     "data": {
      "text/plain": [
       "array([[1., 0., 0.],\n",
       "       [0., 1., 0.],\n",
       "       [0., 0., 1.]])"
      ]
     },
     "execution_count": 21,
     "metadata": {},
     "output_type": "execute_result"
    }
   ],
   "source": [
    "#Write a NumPy program to create a 3x3 identity matrix\n",
    "arr16 = np.identity(3)\n",
    "arr16"
   ]
  },
  {
   "cell_type": "code",
   "execution_count": 33,
   "id": "87255aa5-bd3d-41fb-9945-ba028a3d85f9",
   "metadata": {},
   "outputs": [
    {
     "data": {
      "text/plain": [
       "array([[[0.08470074, 0.3623037 , 0.76276139]],\n",
       "\n",
       "       [[0.23069001, 0.72592702, 0.35083258]],\n",
       "\n",
       "       [[0.46065787, 0.59050459, 0.76512489]]])"
      ]
     },
     "execution_count": 33,
     "metadata": {},
     "output_type": "execute_result"
    }
   ],
   "source": [
    "# Write a NumPy program to generate a random number between 0 and 1.\n",
    "arr17 = np.random.normal(0,1,3)\n",
    "arr17\n",
    "arr171 = np.random.rand(3,1,3)\n",
    "arr171"
   ]
  },
  {
   "cell_type": "code",
   "execution_count": 34,
   "id": "5b7a2067-fd2f-4b90-98c7-c56a26471405",
   "metadata": {},
   "outputs": [
    {
     "data": {
      "text/plain": [
       "array([-0.19846115, -0.48823428, -1.29332698,  0.25726162,  1.01137579,\n",
       "        0.69742756, -0.50547009, -0.01467139, -0.87183886,  0.16268147,\n",
       "       -0.41223632,  0.18038636, -0.0027977 , -0.85772048, -0.49880167])"
      ]
     },
     "execution_count": 34,
     "metadata": {},
     "output_type": "execute_result"
    }
   ],
   "source": [
    "#Write a NumPy program to generate an array of 15 random numbers from a standard normal distribution.\n",
    "arr18 = np.random.normal(0,1,15)\n",
    "arr18"
   ]
  },
  {
   "cell_type": "code",
   "execution_count": 40,
   "id": "dd2d52a1-870f-441d-981d-f3da063e7aac",
   "metadata": {},
   "outputs": [
    {
     "data": {
      "text/plain": [
       "array([16, 17, 18, 19, 20, 21, 22, 23, 24, 25, 26, 27, 28, 29, 30, 31, 32,\n",
       "       33, 34, 35, 36, 37, 38, 39, 40, 41, 42, 43, 44, 45, 46, 47, 48, 49,\n",
       "       50, 51, 52, 53, 54])"
      ]
     },
     "execution_count": 40,
     "metadata": {},
     "output_type": "execute_result"
    }
   ],
   "source": [
    "#Write a NumPy program to create a vector with values ranging from 15 to 55 and print all values except the first and last.\n",
    "arr19 = np.arange(15,56)\n",
    "arr19[1:-1]"
   ]
  },
  {
   "cell_type": "code",
   "execution_count": 44,
   "id": "71457399-64bc-4347-9d1e-8c0d3fce5979",
   "metadata": {},
   "outputs": [
    {
     "name": "stdout",
     "output_type": "stream",
     "text": [
      "33\n",
      "41\n",
      "35\n",
      "51\n",
      "55\n",
      "26\n",
      "26\n",
      "40\n",
      "55\n",
      "52\n",
      "48\n",
      "52\n"
     ]
    }
   ],
   "source": [
    "#Write a NumPy program to create a 3X4 array and iterate over it.\n",
    "arr20 = np.random.randint(20,60,(3,4))\n",
    "arr20\n",
    "for x in np.nditer(arr20):\n",
    "    print(x)"
   ]
  }
 ],
 "metadata": {
  "kernelspec": {
   "display_name": "Python 3 (ipykernel)",
   "language": "python",
   "name": "python3"
  },
  "language_info": {
   "codemirror_mode": {
    "name": "ipython",
    "version": 3
   },
   "file_extension": ".py",
   "mimetype": "text/x-python",
   "name": "python",
   "nbconvert_exporter": "python",
   "pygments_lexer": "ipython3",
   "version": "3.11.4"
  }
 },
 "nbformat": 4,
 "nbformat_minor": 5
}
